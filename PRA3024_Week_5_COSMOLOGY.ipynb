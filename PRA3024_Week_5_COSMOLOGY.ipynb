{
  "nbformat": 4,
  "nbformat_minor": 0,
  "metadata": {
    "colab": {
      "name": "PRA3024_Week_5_COSMOLOGY.ipynb",
      "provenance": [],
      "collapsed_sections": [],
      "include_colab_link": true
    },
    "kernelspec": {
      "display_name": "Python 3",
      "language": "python",
      "name": "python3"
    },
    "language_info": {
      "codemirror_mode": {
        "name": "ipython",
        "version": 3
      },
      "file_extension": ".py",
      "mimetype": "text/x-python",
      "name": "python",
      "nbconvert_exporter": "python",
      "pygments_lexer": "ipython3",
      "version": "3.8.7"
    }
  },
  "cells": [
    {
      "cell_type": "markdown",
      "metadata": {
        "id": "view-in-github",
        "colab_type": "text"
      },
      "source": [
        "<a href=\"https://colab.research.google.com/github/carororo/BigDataSession1/blob/main/PRA3024_Week_5_COSMOLOGY.ipynb\" target=\"_parent\"><img src=\"https://colab.research.google.com/assets/colab-badge.svg\" alt=\"Open In Colab\"/></a>"
      ]
    },
    {
      "cell_type": "markdown",
      "metadata": {
        "id": "TkdruF2bYl5j"
      },
      "source": [
        "# <span style='color:deepskyblue'> Cosmology MCMC notebook </span>"
      ]
    },
    {
      "cell_type": "markdown",
      "metadata": {
        "id": "t0SazaVif4pl"
      },
      "source": [
        "## <span style='color:deepskyblue'>Preliminaries</span>"
      ]
    },
    {
      "cell_type": "code",
      "metadata": {
        "colab": {
          "base_uri": "https://localhost:8080/"
        },
        "id": "y6hcXmMbhbMA",
        "scrolled": true,
        "outputId": "4707d990-603d-40b4-eeff-2359ece0569f"
      },
      "source": [
        "# Install required packages (if not available on server)\n",
        "!pip install getdist\n",
        "import numpy as np\n",
        "import matplotlib.pyplot as plt"
      ],
      "execution_count": 1,
      "outputs": [
        {
          "output_type": "stream",
          "text": [
            "Requirement already satisfied: getdist in /usr/local/lib/python3.7/dist-packages (1.1.4)\n",
            "Requirement already satisfied: numpy in /usr/local/lib/python3.7/dist-packages (from getdist) (1.19.5)\n",
            "Requirement already satisfied: matplotlib>=2.2.0 in /usr/local/lib/python3.7/dist-packages (from getdist) (3.2.2)\n",
            "Requirement already satisfied: scipy>=1.0.0 in /usr/local/lib/python3.7/dist-packages (from getdist) (1.4.1)\n",
            "Requirement already satisfied: kiwisolver>=1.0.1 in /usr/local/lib/python3.7/dist-packages (from matplotlib>=2.2.0->getdist) (1.3.1)\n",
            "Requirement already satisfied: python-dateutil>=2.1 in /usr/local/lib/python3.7/dist-packages (from matplotlib>=2.2.0->getdist) (2.8.1)\n",
            "Requirement already satisfied: cycler>=0.10 in /usr/local/lib/python3.7/dist-packages (from matplotlib>=2.2.0->getdist) (0.10.0)\n",
            "Requirement already satisfied: pyparsing!=2.0.4,!=2.1.2,!=2.1.6,>=2.0.1 in /usr/local/lib/python3.7/dist-packages (from matplotlib>=2.2.0->getdist) (2.4.7)\n",
            "Requirement already satisfied: six>=1.5 in /usr/local/lib/python3.7/dist-packages (from python-dateutil>=2.1->matplotlib>=2.2.0->getdist) (1.15.0)\n"
          ],
          "name": "stdout"
        }
      ]
    },
    {
      "cell_type": "markdown",
      "metadata": {
        "id": "ayxOF90lVqKY"
      },
      "source": [
        "## <span style='color:deepskyblue'> The $\\Lambda$CDM Model </span>\n",
        "\n",
        "The Lambda-Cold-Dark-Matter ($\\Lambda$CDM) Model is our concordance cosmological model. It postulates a Universe that behaves according to **General Relativity**, filled with **baryons** (protons, neutrons - the stuff we and stars are made of!), **Cold Dark Matter (CDM)** and a **Cosmological Constant** $\\Lambda$.\n",
        "\n",
        "The expansion of the Universe is best described in terms of the **scale factor** $a$ (the \"radius\" of the Universe, conventionally set to 1 today) and the **Hubble rate** $H$\n",
        "\n",
        "$$\n",
        "H \\equiv \\frac{\\dot a}{a}\n",
        "$$\n",
        "\n",
        "The Einstein Equations in a **homogeneous, isotropic** Universe have an especially simple form and a special name, **Friedmann Equation**:\n",
        "\n",
        "$$\n",
        "H^2 = \\frac{8\\pi G}{3}\\rho + \\frac{k}{a^2}\n",
        "$$\n",
        "\n",
        "where $\\rho$ is the total energy density of the Universe (at a certain time or size), and $k$ is a universal constant related to the [spatial curvature and shape of the Universe](https://en.wikipedia.org/wiki/Shape_of_the_universe#:~:text=The%20spatial%20curvature%20is%20related,indistinguishable%20spaces%20with%20different%20topologies.). In the $\\Lambda$CDM model, this additionally simplifies to\n",
        "\n",
        "$$\n",
        "\\boxed{\n",
        "H^2 = H_0^2\\left(\\Omega_\\Lambda + \\Omega_m a^{-3} + \\Omega_k a^{-2}\\right)\n",
        "}\n",
        "\\qquad\n",
        "\\qquad\n",
        "\\Omega_m + \\Omega_\\Lambda + \\Omega_k = 1\n",
        "$$\n",
        "\n",
        "$H_0$ is the value of the Hubble rate *today*, and the parameters $\\Omega_m$, $\\Omega_\\Lambda$ and $\\Omega_k$ are dimensionless quantities indicating how much of the present expansion of the Universe is due to (non-relativistic) matter, cosmological constant $\\Lambda$, and spatial curvature $k$. Note that the three $\\Omega$'s are *not independent* (their sum is 1) and that we grouped together the contribution of baryons and CDM,\n",
        "\n",
        "$$\n",
        "\\Omega_m = \\Omega_{\\rm CDM} + \\Omega_{\\rm b}\n",
        "$$\n",
        "\n",
        "and that we have evidence that independent evidence that $\\Omega_b \\approx 5$\\%. Note that only $\\Omega_m \\geq 0$ makes physical sense, while in principle both $\\Omega_\\Lambda$ and $\\Omega_k$ can be negative.\n",
        "\n",
        "The present Hubble rate is conventionally parametrised in terms of the dimensionless $h$:\n",
        "\n",
        "$$\n",
        "H_0 \\equiv h\\,\\frac{\\text{km}}{\\text{s Mpc}}\n",
        "$$\n",
        "\n",
        "where Mpc = Megaparsec and [parsec](https://en.wikipedia.org/wiki/Parsec) equals to about $3.26$ light years or $3.086 \\cdot 10^{13}$ m. \n",
        "\n",
        "In essence, these equations give us the relation between *what exists in the Universe* and *how the Universe expanded*. Measure one, I can tell you the other. This is precisely what we aim to do!\n",
        "\n",
        "Time to define the function $H(z)$. Don't forget to include the useful parameters as arguments of the function, and to define `parsec`."
      ]
    },
    {
      "cell_type": "code",
      "metadata": {
        "id": "qgBKuIltSTjk"
      },
      "source": [
        "PARSEC = 3.086E13 # <--- YOUR CODE GOES HERE!\n",
        "\n",
        "\n",
        "\n",
        "# Hubble rate\n",
        "def Hz(z, H, O_m, O_L): \n",
        "  Hz = H * np.sqrt(O_L + O_m*pow(1+zs,3) + (1 - O_m - O_L) * pow(1+z,2)) #basically you just plug in 1/1+z for a in the H^2 equation and take the sqrt\n",
        "  return Hz\n",
        "\n"
      ],
      "execution_count": 2,
      "outputs": []
    },
    {
      "cell_type": "markdown",
      "metadata": {
        "id": "kBGrXZVISTjn"
      },
      "source": [
        "##  <span style='color:deepskyblue'>Supernovae Ia</span>\n",
        "\n",
        "In order to track the expansion of the Universe, we will look at Supernovae type Ia observations. SNIa are formed when a *white dwarf* accretes matter from a companion until it reaches a critical mass of about $1.44 M_\\odot$ (solar masses), after which it explodes **at always the same luminosity** $L_{\\rm SN}$. Therefore, the observed [magnitude](https://en.wikipedia.org/wiki/Magnitude_(astronomy)) is only a function of their [**luminosity distance**](https://en.wikipedia.org/wiki/Distance_measures_(cosmology)) from Earth, defined as the ratio of the intrinsic luminosity $L_{\\rm SNIa}$ and the measured *surface brightness* $\\Phi$ (energy per unit time per unit area)\n",
        "\n",
        "$$ d_L\\equiv \\frac{L_{\\rm SN}}{4\\pi \\Phi} $$\n",
        "\n",
        "While photons (light rays) travel from the distant SNIa to Earth, the Universe expands and the photons get redshifted, and this redshift is directly related to the size of the Universe when the photon was emitted compared to today:\n",
        "\n",
        "$$ \\frac{\\lambda_{\\rm obs}}{\\lambda_{\\rm em}} \\equiv 1 + z_{\\rm em} = \\frac{1}{a_{\\rm em}}$$\n",
        "\n",
        "We can express the luminosity distance in terms of the Hubble rate:\n",
        "\n",
        "$$ \n",
        "\\boxed{\n",
        "\n",
        "d_L(z) = \\frac{c}{H_0}(1+z)\n",
        "\\begin{cases}\n",
        "    \\cfrac{1}{\\sqrt{\\Omega_k}} \\sinh\\left(\\sqrt{\\Omega_k}D(z)\\right) & \\Omega_k > 0\n",
        "    \\\\[.5em]\n",
        "    D(z) & \\Omega_k > 0\n",
        "    \\\\[.5em]\n",
        "    \\cfrac{1}{\\sqrt{-\\Omega_k}} \\sin\\left(\\sqrt{-\\Omega_k}D(z)\\right) & \\Omega_k < 0\n",
        "\\end{cases}\n",
        "\\qquad\\qquad\n",
        "D(z) \\equiv H_0\\int_0^z \\frac{{\\rm d}Z}{H(Z)}\n",
        "\n",
        "}\n",
        "$$\n",
        "\n",
        "![aaaa.PNG](data:image/png;base64,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)\n",
        "\n",
        "where $c$ is the speed of light: $c \\simeq 2.998 \\cdot 10^{5}$ km/s.\n",
        "\n",
        "Clearly, there exists a relation between $d_L(z)$ and $H(z)$, so the luminosity distance is a useful measure of the Universe expansion history.\n",
        "\n",
        "We can create the function `dL(z, h, Omega_m, Omega_L)`. You can also pass the function `Hubble` as an argument: `dL(z, Hubble, Omega_m, Omega_Lambda)`. Additionally, you can create $D(z)$ for your convenience.\n",
        "\n",
        "Note that you need to integrate the function $H(z)$, so write your own quick-and-easy numerical integrator or [look up the pre-written methods](https://docs.scipy.org/doc/scipy/reference/tutorial/integrate.html). Make sure it returns $d_L$ in parsecs and that it uses $H_0$ measured in km/s/Mpc!"
      ]
    },
    {
      "cell_type": "code",
      "metadata": {
        "id": "njSgcExdSTjq"
      },
      "source": [
        "SPEED_OF_LIGHT = 2.998E5 \n",
        "import scipy.integrate as integrate\n",
        "\n",
        "H = 70\n",
        "\n",
        "O_L = 0.7\n",
        "\n",
        "O_m = 0.3\n",
        "\n",
        "O_k = 0\n",
        "\n",
        "# Luminosity distance\n",
        "\n",
        "def dZ(z, H, O_L, O_m, O_k, SPEED_OF_LIGHT, PARSEC):\n",
        "  dZ_value = H * integrate.quad(lambda z: (z/Hz(z, H, O_m, O_L)), 0, z)\n",
        "  return dZ_value\n",
        "\n",
        "def dL(z, H, O_L, O_m, O_k, SPEED_OF_LIGHT):\n",
        " \n",
        "  if (O_k < 0):\n",
        "    dL_bigger = (1/sqrt(O_k))*sinh(sqrt(O_k)*dZ(z, H, O_L, O_m, O_k, SPEED_OF_LIGHT, PARSEC))\n",
        "    return dL_bigger\n",
        "  \n",
        "  elif (O_k == 0):\n",
        "    dL_equal = (SPEED_OF_LIGHT/H)*(1+z) * dZ(z, H, O_L, O_m, O_k, SPEED_OF_LIGHT, PARSEC)\n",
        "    return dL_equal\n",
        "\n",
        "  elif (O_k > 0):\n",
        "    dL_smaller = (1/sqrt(-O_k))*sinh(sqrt(-O_k)*dZ(z, H, O_L, O_m, O_k, SPEED_OF_LIGHT, PARSEC))\n",
        "    return dL_smaller\n",
        "\n",
        "\n",
        "\n"
      ],
      "execution_count": 3,
      "outputs": []
    },
    {
      "cell_type": "markdown",
      "metadata": {
        "id": "tNkeRgJ9STjr"
      },
      "source": [
        "## <span style='color:deepskyblue'>The Union2.1 Compilation</span>\n",
        "\n",
        "Our source of data is from [Union2.1](http://supernova.lbl.gov/Union/). It is a collection of $580$ SNIa, each observation is comprised of redshift $z$ and [distance modulus](https://en.wikipedia.org/wiki/Distance_modulus) $\\mu$ (and corresponding errors $\\delta\\mu$), defined as the difference between the *apparent magnitude* $m$ and the *absolute magnitude* $M$:\n",
        "\n",
        "$$\n",
        "\\boxed{\n",
        "\\mu(z) \\equiv m(z) - M \\equiv 5 \\log_{10} \\frac{d_L(z)}{10\\,\\text{pc}}\n",
        "}\n",
        "$$\n",
        "\n",
        "Our goal today is to use SNIa measurements to constrain the parameters ($h, \\Omega_\\Lambda, \\Omega_m$).\n",
        "\n",
        "In essence, we can calculate for each redshift the theoretical value of $\\mu$ using this equation with the expression for $d_L(z)$ and our model of choice $H(z)$ -- note that we will need to perform a numerical integral! -- and compare this value with observations. A different model would amount to changing the theoretical value of $H(z)$.\n",
        "\n",
        "Let us start by importing and plotting the data:"
      ]
    },
    {
      "cell_type": "code",
      "metadata": {
        "colab": {
          "base_uri": "https://localhost:8080/"
        },
        "id": "sKb3QGqXTuJ5",
        "outputId": "e3e82f58-6e39-4ee5-df4f-1170353fd6c5"
      },
      "source": [
        "dataloc = \"http://supernova.lbl.gov/Union/figures/SCPUnion2.1_mu_vs_z.txt\"\n",
        "\n",
        "# Read in data as numpy array.\n",
        "# Format is [name, redshift, magnitude, magnitude error, and another number?]\n",
        "data = np.genfromtxt(dataloc)\n",
        "\n",
        "# Print the first line as an example. (Note that genfromtxt turns the names into 'Not A Number')\n",
        "print(data[0])"
      ],
      "execution_count": 4,
      "outputs": [
        {
          "output_type": "stream",
          "text": [
            "[           nan 2.84880000e-02 3.53465834e+01 2.23905933e-01\n",
            " 1.28418942e-01]\n"
          ],
          "name": "stdout"
        }
      ]
    },
    {
      "cell_type": "code",
      "metadata": {
        "id": "2mvAA83gVIHz"
      },
      "source": [
        "# pull out the redshifts (zs), distance modulus (dist_mod) and magnitude estimated errors (err_dist_mod)\n",
        "zs = data.T[1] # redshift\n",
        "dist_mod = data.T[2] # distance modulus\n",
        "err_dist_mod = data.T[3] # errors on distance modulus"
      ],
      "execution_count": 5,
      "outputs": []
    },
    {
      "cell_type": "code",
      "metadata": {
        "id": "x2hF3drbVPEW"
      },
      "source": [
        "# Let's look at the data, just for fun. \n",
        "# We can look both at the raw data (distance modulus) or calculate the luminosity distance\n",
        "# Note that Numpy allows us to manipulate whole arrays at once\n",
        "import scipy.integrate as integrate\n",
        "\n",
        "# luminosity distance in pc\n",
        "dpc = 10. * 10.**(dist_mod / 5.)\n",
        "\n",
        "# and in Mpc\n",
        "dMpc = dpc / 10.**6\n",
        "\n",
        "# and the error on that distance:\n",
        "dMe = 10. * (10.**((dist_mod + err_dist_mod)/5.-6.) - 10.**((dist_mod - err_dist_mod)/5.-6.))"
      ],
      "execution_count": 6,
      "outputs": []
    },
    {
      "cell_type": "code",
      "metadata": {
        "colab": {
          "base_uri": "https://localhost:8080/",
          "height": 334
        },
        "id": "o81D-kOYYwx5",
        "outputId": "58d336be-76c6-49b2-e065-a3959d806f42"
      },
      "source": [
        "\n",
        "\n",
        "plt.subplots(1, 2, figsize=(15, 5))\n",
        "\n",
        "# Plot distance modulus versus redshift (original data)\n",
        "plt.subplot(1, 2, 1)\n",
        "plt.xlabel(\"Redshift\")\n",
        "plt.ylabel(\"Distance Modulus\")\n",
        "plt.errorbar(zs, dist_mod, yerr=err_dist_mod, fmt='o', color='black', ecolor='darkcyan', markersize=4)\n",
        "\n",
        "# Plot luminosity distance versus redshift\n",
        "plt.subplot(1, 2, 2)\n",
        "plt.xlabel(\"Redshift\")\n",
        "plt.ylabel(\"Luminosity Distance [Mpc]\")\n",
        "plt.errorbar(zs, dMpc, yerr=dMe, fmt='o', color='black', ecolor='darkcyan', markersize=4)\n",
        "plt.show()"
      ],
      "execution_count": 7,
      "outputs": [
        {
          "output_type": "display_data",
          "data": {
            "image/png": "[encoded data removed]",
            "text/plain": [
              "<Figure size 1080x360 with 2 Axes>"
            ]
          },
          "metadata": {
            "tags": [],
            "needs_background": "light"
          }
        }
      ]
    },
    {
      "cell_type": "markdown",
      "metadata": {
        "id": "CirR-JVVSTjw"
      },
      "source": [
        "## <span style='color:deepskyblue'>Bayes' Theorem: Likelihood, Prior, Posterior (and Evidence...)</span>\n",
        "\n",
        "The **conditional probability of A given that B is true** is denoted with $P(A|B)$ (read: *probability of A given B*). \n",
        "Did A happen? Then B has probability $P(B|A)$ of happening.\n",
        "\n",
        "[**Bayes' Theorem**](https://en.wikipedia.org/wiki/Bayes%27_theorem) is simply a reflection of the symmetry of the concept of joint probability:\n",
        "\n",
        "$$\n",
        "P(A|B)P(B) = P(B|A)P(A)\n",
        "$$\n",
        "\n",
        "In physics, our goal is often to determine how likely the values of some parameters $\\theta$ are, given how well they reproduce the data $D$. \n",
        "We write Bayes' theorem in the following equivalent form:\n",
        "\n",
        "$$\n",
        "P(\\theta | D) = \\frac{P(D|\\theta)P(\\theta)}{P(D)}\n",
        "$$\n",
        "\n",
        "The various terms conventionally take the names:\n",
        "\n",
        "$$\n",
        "\\begin{aligned}\n",
        "P(\\theta | D) & && \\text{Posterior}\n",
        "\\\\\n",
        "P(D | \\theta)& && \\text{Likelihood}\n",
        "\\\\\n",
        "P(\\theta) & && \\text{Prior}\n",
        "\\\\\n",
        "P(D) & && \\text{Evidence}\n",
        "\\end{aligned}\n",
        "$$\n",
        "\n",
        "### <span style='color:deepskyblue'>Prior</span>\n",
        "\n",
        "The *prior* quantifies our degree of prior belief in the model parameters. It can contain the results of previous experiments, or theoretical considerations (for instance, that certain parameters cannot be negative, etc.). \n",
        "\n",
        "We can have *strong priors* about something - the Sun still existing at night, see the comic below - or not.\n",
        "When we do *not* have compelling prior knowledge about a parameter, we generally use a *non-informative* prior probability distribution, most often related to the [uniform distribution](https://en.wikipedia.org/wiki/Continuous_uniform_distribution)\n",
        "\n",
        "$$\n",
        "\\begin{aligned}\n",
        "    \\text{Uniform} & && \\theta \\in \\text{Uniform}[\\theta_{\\rm min}, \\theta_{\\rm max}]\n",
        "    \\\\\n",
        "    \\text{Log Uniform} & && \\log\\theta \\in \\text{Uniform}[\\log\\theta_{\\rm min}, \\log\\theta_{\\rm max}]\n",
        "\\end{aligned}\n",
        "$$\n",
        "\n",
        "You may sometimes hear that \"the prior doesn't matter\". While this is not strictly true, it is however true that in many instances the *likelihood* depends more dramatically on the parameters and will have a dominating contribution to the posterior. You are more than welcome to try different priors for the model parameters and see if and how your results change.\n",
        "\n",
        "### <span style='color:deepskyblue'>Likelihood</span>\n",
        "\n",
        "The measure of how well our model reproduces the data is the **likelihood** $\\mathcal L$. For normal (=Gaussian), uncorrelated data $\\mu_i$ with errors $\\sigma_i$ ($i = \\{1,580\\}$), the likelihood is related to the famous [**chi-squared**](https://en.wikipedia.org/wiki/Chi-square_distribution) via\n",
        "\n",
        "$$\n",
        "P(D | \\theta) \\equiv \\mathcal L = \\exp\\left(-\\frac{\\chi^2}{2}\\right)\n",
        "\\qquad\n",
        "\\qquad\n",
        "\\boxed{\n",
        "\\chi^2 \\equiv \\sum_{i=1}^{580} \\frac{\\left(\\mu_i^{(\\rm theor)} - \\mu_i^{(\\rm obs)}\\right)^2}{\\sigma_i^2}\n",
        "}\n",
        "$$\n",
        "\n",
        "A *high likelihood* corresponds to a *low chi squared*.\n",
        "\n",
        "In principle, we could attack the problem brute-force: create a grid of values for $h$, $\\Omega_m$, $\\Omega_\\Lambda$, calculate the likelihood for each combination, and create a profile for the likelihood. \n",
        "\n",
        "In practical cases, however, this is not only sub-optimal but sometimes **impossible**. Think of complicated models with 20+ free parameters (this is not that unusual in physics, by the way). Even a very coarse grained grid of 100 values for each parameter would result in more than$10^{40}$ (!!!) different parameter combination to be tested. You can probably understand why this is undesirable.\n",
        "\n",
        "### <span style='color:deepskyblue'>Evidence</span>\n",
        "\n",
        "This is the tricky bit. The evidence, which is \"*the probability of observing certain data*\", is not something that is easy to evaluate or interpret. This looks like a serious limitation to finding the:\n",
        "\n",
        "\n",
        "### <span style='color:deepskyblue'>Posterior</span>\n",
        "\n",
        "What does the data tell us about the model parameters? The answer is the *posterior probability distribution*, often (but not necessarily) expressed as (average $\\pm$ standard deviation)\n",
        "\n",
        "$$\n",
        "\\theta_i = \\bar\\theta_i \\pm \\sigma_i\n",
        "$$\n",
        "\n",
        "In other words, the posterior tells us how likely it is for the model parameters to have certain values, *given that we observe the data* $D$.\n",
        "\n",
        "*This is the final goal of our analysis!*\n",
        "\n",
        "<br>\n",
        "\n",
        "![title](http://1.bp.blogspot.com/-tTx4HDejSww/ULcTeK9_V_I/AAAAAAAAA8g/PCYOH-eXGbk/s1600/frequentists_vs_bayesians.png)\n",
        "![title](https://i.redd.it/5r0hwixt0m931.jpg)"
      ]
    },
    {
      "cell_type": "markdown",
      "metadata": {
        "id": "lymI_LaObhcU"
      },
      "source": [
        "## <span style='color:deepskyblue'>Markov-Chain Monte Carlo</span>\n",
        "\n",
        "Markov-Chain Monte Carlo techniques are a class of methods to sample a probability distribution $P(x)$ - in our case $P(\\theta | D)$ - provided that we can calculate a density $\\mathcal F(x)$ **that is proportional to it** - in our case $P(\\theta)P(D|\\theta)$ = likelihood $\\times$ prior. Among these, a very popular one is the [**Metropolis-Hastings**](https://en.wikipedia.org/wiki/Metropolis%E2%80%93Hastings_algorithm) algorithm, which is what we will use.\n",
        "\n",
        "Schematically, the algorithm works as follows:\n",
        "* Start with an $n$-tuple of parameters $\\theta_{\\rm old} = \\{\\theta_1, \\theta_2, \\dots\\}_{\\rm old}$ (in our case $\\theta = \\{h,\\Omega_m,\\Omega_\\Lambda\\}$) and calculate the $\\mathcal F_{\\rm old}$\n",
        "* Propose a new set of parameters $\\theta_{\\rm prop}$, calculate the new corresponding $\\mathcal F_{\\rm prop}$. How you propose the new parameters is not essential as long as the probability of going from one set of parameters to the next is the same as the inverse: $P(\\theta_a \\to \\theta_b) = P(\\theta_b \\to \\theta_a)$. For this, we normally take Gaussian displacements with some (relatively small) standard deviation.\n",
        "* Compare the new and old likelihoods-priors:\n",
        "    * If $\\mathcal F_{\\rm prop} > \\mathcal F_{\\rm old}$, accept the step: $\\theta_{\\rm new} = \\theta_{\\rm prop}$\n",
        "    * Otherwise, accept with probability $P_{\\rm accept} = \\mathcal F_{\\rm prop}/\\mathcal F_{\\rm old}$\n",
        "* If accepted, $\\theta_{\\rm new} = \\theta_{\\rm prop}$ and record the step; otherwise, $\\theta_{\\rm new} = \\theta_{\\rm old}$ (no re-recording)\n",
        "* Update $\\theta_{\\rm old} = \\theta_{\\rm new}$\n",
        "* Repeat\n",
        "\n",
        "The MC chain keeps going until the desired number of steps or, ideally, when a suitable convergence test, like for example the [Gelman-Rubin test](https://bookdown.org/rdpeng/advstatcomp/monitoring-convergence.html), is satisfied. \n",
        "Today we will just set a limit to the total number of steps, but please feel free to implement and test your favourite convergence test!\n",
        "\n",
        "Looking at equation (4), you can convince yourself that\n",
        "$$\n",
        "\\frac{\\mathcal L_a}{\\mathcal L_b} = \\exp\\left(\\frac{\\chi_b^2 - \\chi_a^2}{2}\\right)\n",
        "$$\n",
        "\n",
        "(This is useful because $\\chi^2$ can be large, so we want to avoid the likelihoods evaluating to `0.` -- computers don't like dividing by zero, unfortunately)\n",
        " \n",
        "* Start with an $n$-tuple of parameters $\\theta_{\\rm old} = \\{\\theta_1, \\theta_2, \\dots\\}_{\\rm old}$ (in our case $\\theta = \\{h,\\Omega_m,\\Omega_\\Lambda\\}$) and the corresponding chi squared $\\chi_{\\rm old}^2$ (to be clear, for us this implies calculating a series of 580 integrals and comparing each with the observed values)\n",
        "* Propose new parameters $\\theta_{\\rm prop}$ and calculate the corresponding chi squared $\\chi_{\\rm prop}^2$\n",
        "* Draw a random number $r \\in [0,1]$\n",
        "* Accept the step if \n",
        "$$\n",
        "r < \\exp\\left(\\frac{\\chi_{\\rm old}^2 - \\chi_{\\rm prop}^2}{2}\\right) \\frac{P(\\theta)_{\\rm prop}}{P(\\theta)_{\\rm old}}\n",
        "$$\n",
        "    * If accepted, update $\\theta_{\\rm old} = \\theta_{\\rm prop}$, and record; otherwise, $\\theta_{\\rm new} = \\theta_{\\rm old}$ (no re-recording)\n",
        "* Repeat"
      ]
    },
    {
      "cell_type": "code",
      "metadata": {
        "colab": {
          "base_uri": "https://localhost:8080/",
          "height": 379
        },
        "id": "o0vl4HHkV9fC",
        "outputId": "59838513-bfe4-4602-e3f7-a4442382a684"
      },
      "source": [
        "import math\r\n",
        "import random\r\n",
        "\r\n",
        "\r\n",
        "def distance_mod(z, H, O_L, O_m, O_k, SPEED_OF_LIGHT, PARSEC):\r\n",
        " distance_mod = 5 * math.log(dL(z, H, O_L, O_m, O_k, SPEED_OF_LIGHT)/10*PARSEC, 10)  \r\n",
        " return distance_mod\r\n",
        "\r\n",
        "def chi(H, O_L, O_m):\r\n",
        "  for i in range (1, 580, 1):\r\n",
        "    list = []\r\n",
        "    list.append((distance_mod(zs[i], H, O_L, O_m, O_k, SPEED_OF_LIGHT, PARSEC) - dist_mod.T[i])**2)/err_dist_mod.data.T[i]\r\n",
        "    return sum(list)\r\n",
        "\r\n",
        "def likelihood(chi):\r\n",
        "  likelihood = math.exp(-chi(z, H, O_L, O_m, O_k, SPEED_OF_LIGHT, PARSEC)/2)\r\n",
        "  return likelihood\r\n",
        "\r\n",
        "\r\n",
        "chi_old = 10E99\r\n",
        "f = open(\"data.txt\",\"w+\")\r\n",
        "\r\n",
        "\r\n",
        "runs = 1000\r\n",
        "\r\n",
        "i = 0\r\n",
        "\r\n",
        "while (i < runs):\r\n",
        "\r\n",
        "\r\n",
        "  z = zs.T[i]\r\n",
        "\r\n",
        "\r\n",
        "  for j in range(len(data.T[2])):\r\n",
        "\r\n",
        "    chi_sum = 0\r\n",
        "\r\n",
        "    dL_N = dL(z, H + random.random()*0.5-0.25, O_m + random.random()*0.03-0.015, O_L + random.random()*0.05-0.025, 1 - (O_m - O_L), SPEED_OF_LIGHT)\r\n",
        "\r\n",
        "    chi_new = (((dist_mod.T[j] - dL_L)/ err_dist_mod.T[j])**2)\r\n",
        "\r\n",
        "    chi_sum = chi_sum + chi_new\r\n",
        "\r\n",
        "    print(dL_N, dist_mod.T[j])\r\n",
        "\r\n",
        "    print(chi_new)\r\n",
        "\r\n",
        "\r\n",
        "    if (chi_sum < chi_old):\r\n",
        "      chi_old == chi_sum\r\n",
        "      i += 1\r\n",
        "\r\n",
        "    elif (r < ((chi_old - chi_sum/2))):\r\n",
        "      chi_old = chi_sum\r\n",
        "      i += 1\r\n",
        "\r\n",
        "    else:\r\n",
        "      i = i - 1\r\n",
        "\r\n",
        "\r\n",
        "\r\n",
        "   \r\n",
        "## i got stuck here and didn't figure out what went wrong \r\n",
        "\r\n",
        "\r\n",
        "\r\n"
      ],
      "execution_count": 8,
      "outputs": [
        {
          "output_type": "error",
          "ename": "NameError",
          "evalue": "ignored",
          "traceback": [
            "\u001b[0;31m---------------------------------------------------------------------------\u001b[0m",
            "\u001b[0;31mNameError\u001b[0m                                 Traceback (most recent call last)",
            "\u001b[0;32m<ipython-input-8-126f20a0b36a>\u001b[0m in \u001b[0;36m<module>\u001b[0;34m()\u001b[0m\n\u001b[1;32m     40\u001b[0m     \u001b[0mchi_sum\u001b[0m \u001b[0;34m=\u001b[0m \u001b[0;36m0\u001b[0m\u001b[0;34m\u001b[0m\u001b[0;34m\u001b[0m\u001b[0m\n\u001b[1;32m     41\u001b[0m \u001b[0;34m\u001b[0m\u001b[0m\n\u001b[0;32m---> 42\u001b[0;31m     \u001b[0mdL_N\u001b[0m \u001b[0;34m=\u001b[0m \u001b[0mdL\u001b[0m\u001b[0;34m(\u001b[0m\u001b[0mz\u001b[0m\u001b[0;34m,\u001b[0m \u001b[0mH\u001b[0m \u001b[0;34m+\u001b[0m \u001b[0mrandom\u001b[0m\u001b[0;34m.\u001b[0m\u001b[0mrandom\u001b[0m\u001b[0;34m(\u001b[0m\u001b[0;34m)\u001b[0m\u001b[0;34m*\u001b[0m\u001b[0;36m0.5\u001b[0m\u001b[0;34m-\u001b[0m\u001b[0;36m0.25\u001b[0m\u001b[0;34m,\u001b[0m \u001b[0mO_m\u001b[0m \u001b[0;34m+\u001b[0m \u001b[0mrandom\u001b[0m\u001b[0;34m.\u001b[0m\u001b[0mrandom\u001b[0m\u001b[0;34m(\u001b[0m\u001b[0;34m)\u001b[0m\u001b[0;34m*\u001b[0m\u001b[0;36m0.03\u001b[0m\u001b[0;34m-\u001b[0m\u001b[0;36m0.015\u001b[0m\u001b[0;34m,\u001b[0m \u001b[0mO_L\u001b[0m \u001b[0;34m+\u001b[0m \u001b[0mrandom\u001b[0m\u001b[0;34m.\u001b[0m\u001b[0mrandom\u001b[0m\u001b[0;34m(\u001b[0m\u001b[0;34m)\u001b[0m\u001b[0;34m*\u001b[0m\u001b[0;36m0.05\u001b[0m\u001b[0;34m-\u001b[0m\u001b[0;36m0.025\u001b[0m\u001b[0;34m,\u001b[0m \u001b[0;36m1\u001b[0m \u001b[0;34m-\u001b[0m \u001b[0;34m(\u001b[0m\u001b[0mO_m\u001b[0m \u001b[0;34m-\u001b[0m \u001b[0mO_L\u001b[0m\u001b[0;34m)\u001b[0m\u001b[0;34m,\u001b[0m \u001b[0mSPEED_OF_LIGHT\u001b[0m\u001b[0;34m)\u001b[0m\u001b[0;34m\u001b[0m\u001b[0;34m\u001b[0m\u001b[0m\n\u001b[0m\u001b[1;32m     43\u001b[0m \u001b[0;34m\u001b[0m\u001b[0m\n\u001b[1;32m     44\u001b[0m     \u001b[0mchi_new\u001b[0m \u001b[0;34m=\u001b[0m \u001b[0;34m(\u001b[0m\u001b[0;34m(\u001b[0m\u001b[0;34m(\u001b[0m\u001b[0mdist_mod\u001b[0m\u001b[0;34m.\u001b[0m\u001b[0mT\u001b[0m\u001b[0;34m[\u001b[0m\u001b[0mj\u001b[0m\u001b[0;34m]\u001b[0m \u001b[0;34m-\u001b[0m \u001b[0mdL_L\u001b[0m\u001b[0;34m)\u001b[0m\u001b[0;34m/\u001b[0m \u001b[0merr_dist_mod\u001b[0m\u001b[0;34m.\u001b[0m\u001b[0mT\u001b[0m\u001b[0;34m[\u001b[0m\u001b[0mj\u001b[0m\u001b[0;34m]\u001b[0m\u001b[0;34m)\u001b[0m\u001b[0;34m**\u001b[0m\u001b[0;36m2\u001b[0m\u001b[0;34m)\u001b[0m\u001b[0;34m\u001b[0m\u001b[0;34m\u001b[0m\u001b[0m\n",
            "\u001b[0;32m<ipython-input-3-42c74b9105f3>\u001b[0m in \u001b[0;36mdL\u001b[0;34m(z, H, O_L, O_m, O_k, SPEED_OF_LIGHT)\u001b[0m\n\u001b[1;32m     27\u001b[0m \u001b[0;34m\u001b[0m\u001b[0m\n\u001b[1;32m     28\u001b[0m   \u001b[0;32melif\u001b[0m \u001b[0;34m(\u001b[0m\u001b[0mO_k\u001b[0m \u001b[0;34m>\u001b[0m \u001b[0;36m0\u001b[0m\u001b[0;34m)\u001b[0m\u001b[0;34m:\u001b[0m\u001b[0;34m\u001b[0m\u001b[0;34m\u001b[0m\u001b[0m\n\u001b[0;32m---> 29\u001b[0;31m     \u001b[0mdL_smaller\u001b[0m \u001b[0;34m=\u001b[0m \u001b[0;34m(\u001b[0m\u001b[0;36m1\u001b[0m\u001b[0;34m/\u001b[0m\u001b[0msqrt\u001b[0m\u001b[0;34m(\u001b[0m\u001b[0;34m-\u001b[0m\u001b[0mO_k\u001b[0m\u001b[0;34m)\u001b[0m\u001b[0;34m)\u001b[0m\u001b[0;34m*\u001b[0m\u001b[0msinh\u001b[0m\u001b[0;34m(\u001b[0m\u001b[0msqrt\u001b[0m\u001b[0;34m(\u001b[0m\u001b[0;34m-\u001b[0m\u001b[0mO_k\u001b[0m\u001b[0;34m)\u001b[0m\u001b[0;34m*\u001b[0m\u001b[0mdZ\u001b[0m\u001b[0;34m(\u001b[0m\u001b[0mz\u001b[0m\u001b[0;34m,\u001b[0m \u001b[0mH\u001b[0m\u001b[0;34m,\u001b[0m \u001b[0mO_L\u001b[0m\u001b[0;34m,\u001b[0m \u001b[0mO_m\u001b[0m\u001b[0;34m,\u001b[0m \u001b[0mO_k\u001b[0m\u001b[0;34m,\u001b[0m \u001b[0mSPEED_OF_LIGHT\u001b[0m\u001b[0;34m,\u001b[0m \u001b[0mPARSEC\u001b[0m\u001b[0;34m)\u001b[0m\u001b[0;34m)\u001b[0m\u001b[0;34m\u001b[0m\u001b[0;34m\u001b[0m\u001b[0m\n\u001b[0m\u001b[1;32m     30\u001b[0m     \u001b[0;32mreturn\u001b[0m \u001b[0mdL_smaller\u001b[0m\u001b[0;34m\u001b[0m\u001b[0;34m\u001b[0m\u001b[0m\n\u001b[1;32m     31\u001b[0m \u001b[0;34m\u001b[0m\u001b[0m\n",
            "\u001b[0;31mNameError\u001b[0m: name 'sqrt' is not defined"
          ]
        }
      ]
    },
    {
      "cell_type": "markdown",
      "metadata": {
        "id": "OdpH8ps4STjx"
      },
      "source": [
        "After completion of the programme, your MC chain will (*hopefully*) look something like this:\n",
        "\n",
        "`#Omega_m  Omega_L  h   \n",
        " 0.297     0.703    69.8\n",
        " 0.285     0.715    70.1\n",
        " 0.288     0.712    69.9\n",
        " ...\n",
        "`"
      ]
    },
    {
      "cell_type": "markdown",
      "metadata": {
        "id": "xjUQkf1oSTjx"
      },
      "source": [
        "## <span style='color:deepskyblue'>Plotting: GetDist</span>\n",
        "\n",
        "We will do the plots with [`GetDist`](https://getdist.readthedocs.io/en/latest/plot_gallery.html).\n",
        "\n",
        "The plot gallery contains a lot of useful examples, you should be able to read them fairly easily and see which applies to your situation. Look for both (triangle) plots and for parameter estimation.\n",
        "\n",
        "Note that many `GetDist` functions require arguments of type `MCSamples`; make sure you convert your lists accordingly."
      ]
    },
    {
      "cell_type": "code",
      "metadata": {
        "id": "xm-QXOG4STjx"
      },
      "source": [
        "import getdist, IPython\n",
        "from getdist import plots, MCSamples, loadMCSamples\n",
        "#print('Version: ',getdist.__version__)\n",
        "import numpy as np\n",
        "import pylab\n",
        "from random import random\n",
        "from random import gauss\n",
        "\n",
        "# If you want to use LaTeX in the labels. Not mandatory, but it looks nice ;)\n",
        "pylab.rc('text',usetex=False) \n",
        "\n",
        "my_length = 1000;\n",
        "par1, par2 = [], []\n",
        "\n",
        "m1, m2, s1, s2 = random(), random(), random(), random()\n",
        "for i in range(my_length):\n",
        "    par1.append(gauss(m1, s1))\n",
        "    par2.append(gauss(m2, s2))\n",
        "\n",
        "par1 = np.array(par1)\n",
        "par2 = np.array(par2)\n",
        "par3 = (-0.5 + random()) * par1 + (-0.5 + random()) * par2\n",
        "\n",
        "my_labels = [r'\\alpha', r'\\beta', r'\\gamma']\n",
        "my_names = ['name1', 'name2', 'name3']\n",
        "my_samples = np.array([par1, par2, par3])\n",
        "\n",
        "my_dim = 3\n",
        "\n",
        "my_samples = np.transpose(np.reshape(my_samples,(my_dim,int(my_samples.size/my_dim))))\n",
        "samples1 = MCSamples(samples = my_samples, labels = my_labels, names = my_names)\n",
        "\n",
        "#Triangle corner plot\n",
        "j = plots.getSubplotPlotter(subplot_size=3)\n",
        "j.settings.axes_labelsize = 22\n",
        "j.settings.axes_fontsize = 16\n",
        "j.triangle_plot(samples1, filled = True)"
      ],
      "execution_count": null,
      "outputs": []
    },
    {
      "cell_type": "code",
      "metadata": {
        "id": "3IybT9h7STjz"
      },
      "source": [
        "# example of theoretical curves\n",
        "SPEED_OF_LIGHT = 299792.458 # in km/s\n",
        "\n",
        "# Still need to add Omega_k!\n",
        "def theor_luminosity_distance(z, h, OmegaM, OmegaL):\n",
        "    return 10.**6 * SPEED_OF_LIGHT / h * (1.+z) * \\\n",
        "    integrate.quad(lambda x: 1. / np.sqrt(OmegaM * (1.+x)**3 + OmegaL), 0., z)[0]\n",
        "\n",
        "def theor_distance_modulus(z, h, OmegaM, OmegaL):\n",
        "    return 5. * (-1. + np.log10(theor_luminosity_distance(z, h, OmegaM, OmegaL)))\n",
        "                 \n",
        "zsort = sorted(zs)\n",
        "d_best_fit, d_min, d_max = [], [], []\n",
        "\n",
        "# YOUR RESULTS GO HERE!\n",
        "for z in zsort:\n",
        "    d_best_fit.append(theor_distance_modulus(z, 70., 0.3, 0.7))\n",
        "    d_min.append(theor_distance_modulus(z, 75., 0.5, 0.5))\n",
        "    d_max.append(theor_distance_modulus(z, 65., 0.1, 0.9))\n",
        "    \n",
        "plt.subplots(figsize=(10, 7.5))\n",
        "plt.xlabel(\"Redshift\")\n",
        "plt.ylabel(\"Distance Modulus\")\n",
        "\n",
        "plt.errorbar(zs, dist_mod, yerr=err_dist_mod,\\\n",
        "             fmt='o', color='black', ecolor='darkcyan', markersize=4)\n",
        "plt.plot(zsort, d_best_fit, color='firebrick',linewidth=2.)\n",
        "plt.fill_between(zsort, d_min, d_max, color='grey', alpha=.2)\n",
        "plt.show()"
      ],
      "execution_count": null,
      "outputs": []
    }
  ]
}